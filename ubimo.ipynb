{
 "cells": [
  {
   "cell_type": "code",
   "execution_count": 224,
   "metadata": {},
   "outputs": [],
   "source": [
    "import pandas as pd\n",
    "import numpy as np\n",
    "from sklearn.neighbors import NearestNeighbors\n",
    "\n"
   ]
  },
  {
   "cell_type": "code",
   "execution_count": 225,
   "metadata": {},
   "outputs": [],
   "source": [
    "# load data\n",
    "branches = pd.read_csv('walmart_branches.csv', delimiter=',')\n",
    "devices  = pd.read_csv('devices_locations.csv', delimiter=',')\n",
    "\n"
   ]
  },
  {
   "cell_type": "code",
   "execution_count": 226,
   "metadata": {},
   "outputs": [],
   "source": [
    "# haversine is too slow, on 100m distances - euclidean is good enough approximation\n",
    "branches_coords = branches[['lat', 'lng']].values\n",
    "devices_coords  = devices[['lat', 'lon']].values\n",
    "\n",
    "coords_to_meters = (111229.0, 71695.8)\n",
    "\n",
    "nn = NearestNeighbors(n_neighbors=1, algorithm='auto', metric='euclidean').fit(branches_coords * coords_to_meters)\n",
    "devices['distances'], devices['branch_index'] = nn.kneighbors(devices_coords * coords_to_meters)\n"
   ]
  },
  {
   "cell_type": "code",
   "execution_count": 227,
   "metadata": {},
   "outputs": [
    {
     "name": "stdout",
     "output_type": "stream",
     "text": [
      "found within 100m: 152, while in day times: 137\n"
     ]
    }
   ],
   "source": [
    "# this function can be replaces by lookup table given open/close times\n",
    "# now it just selected times between 6AM and 10PM\n",
    "def is_branch_open(branch_index, hour):\n",
    "    return np.concatenate((hour >= 6, hour <= 22), axis=1).all(axis=1)\n",
    "\n",
    "devices_100m = devices[distances <= 100]\n",
    "\n",
    "indices, hours = np.hsplit(devices_100m[['branch_index', 'report_hour']].values, 2)\n",
    "devices_100m_day = devices_100m[is_branch_open(indices, hours)]\n",
    "\n",
    "customers_100m = devices_100m['device_id'].unique()\n",
    "customers_100m_day = devices_100m_day['device_id'].unique()\n",
    "\n",
    "print('found within 100m: %d, while in day times: %d' % (len(customers_100m), len(customers_100m_day)))"
   ]
  },
  {
   "cell_type": "code",
   "execution_count": 7,
   "metadata": {},
   "outputs": [
    {
     "data": {
      "text/latex": [
       "Each paticular pair of items sampled w.p. \n",
       "$$\n",
       "    \\frac{Nd^2 - d}{N - 1}\n",
       "$$\n",
       "\n",
       "$$~$$\n",
       "\n",
       "Therefore, by linearity of expectation\n",
       "$$\n",
       "    \\mathbb{E}[K'] = K\\frac{Nd^2 - d}{N - 1}\n",
       "$$\n",
       "\n",
       "$$~$$\n",
       "               \n",
       "Using L'Hospital's rule\n",
       "$$\n",
       "    \\lim_{N \\rightarrow +\\infty} \\mathbb{E}[K'] =\n",
       "    \\lim_{N \\rightarrow +\\infty} K\\frac{Nd^2 - d}{N - 1} =\n",
       "    \\lim_{N \\rightarrow +\\infty} K\\frac{d^2}{1} = Kd^2\n",
       "                                            \n",
       "$$"
      ],
      "text/plain": [
       "<IPython.core.display.Latex object>"
      ]
     },
     "metadata": {},
     "output_type": "display_data"
    }
   ],
   "source": [
    "%%latex\n",
    "Each paticular pair of items sampled w.p. \n",
    "$$\n",
    "    \\frac{Nd^2 - d}{N - 1}\n",
    "$$\n",
    "\n",
    "$$~$$\n",
    "\n",
    "Therefore, by linearity of expectation\n",
    "$$\n",
    "    \\mathbb{E}[K'] = K\\frac{Nd^2 - d}{N - 1}\n",
    "$$\n",
    "\n",
    "$$~$$\n",
    "               \n",
    "Using L'Hospital's rule\n",
    "$$\n",
    "    \\lim_{N \\rightarrow +\\infty} \\mathbb{E}[K'] =\n",
    "    \\lim_{N \\rightarrow +\\infty} K\\frac{Nd^2 - d}{N - 1} =\n",
    "    \\lim_{N \\rightarrow +\\infty} K\\frac{d^2}{1} = Kd^2\n",
    "                                            \n",
    "$$"
   ]
  },
  {
   "cell_type": "code",
   "execution_count": null,
   "metadata": {},
   "outputs": [],
   "source": []
  }
 ],
 "metadata": {
  "kernelspec": {
   "display_name": "Python 3",
   "language": "python",
   "name": "python3"
  },
  "language_info": {
   "codemirror_mode": {
    "name": "ipython",
    "version": 3
   },
   "file_extension": ".py",
   "mimetype": "text/x-python",
   "name": "python",
   "nbconvert_exporter": "python",
   "pygments_lexer": "ipython3",
   "version": "3.5.2"
  }
 },
 "nbformat": 4,
 "nbformat_minor": 1
}
